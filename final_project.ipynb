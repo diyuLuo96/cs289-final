{
 "cells": [
  {
   "cell_type": "code",
   "execution_count": 38,
   "metadata": {
    "collapsed": true
   },
   "outputs": [],
   "source": [
    "import pandas as pd\n",
    "import numpy as np\n",
    "from sklearn.model_selection import train_test_split\n",
    "from sklearn.ensemble import RandomForestRegressor\n",
    "from sklearn.model_selection import GridSearchCV\n",
    "\n",
    "from sklearn.covariance import empirical_covariance \n",
    "import matplotlib.pyplot as plt"
   ]
  },
  {
   "cell_type": "code",
   "execution_count": 39,
   "metadata": {
    "collapsed": true
   },
   "outputs": [],
   "source": [
    "data = pd.read_csv('airfoil_self_noise.txt', sep = '\\t',)\n",
    "\n",
    "cols = ['frequency','angle', 'chord length','velocity', 'displacement','sound pressure']\n",
    "\n",
    "data.columns = cols"
   ]
  },
  {
   "cell_type": "code",
   "execution_count": 40,
   "metadata": {},
   "outputs": [
    {
     "data": {
      "text/plain": [
       "(1502, 5)"
      ]
     },
     "execution_count": 40,
     "metadata": {},
     "output_type": "execute_result"
    }
   ],
   "source": [
    "X = data[cols[0:-1]]\n",
    "y = data[cols[-1]]\n",
    "np.shape(X)"
   ]
  },
  {
   "cell_type": "code",
   "execution_count": 41,
   "metadata": {},
   "outputs": [
    {
     "data": {
      "text/plain": [
       "(1006, 5)"
      ]
     },
     "execution_count": 41,
     "metadata": {},
     "output_type": "execute_result"
    }
   ],
   "source": [
    "X_train, X_test, y_train, y_test = train_test_split(X, y, test_size=0.33, random_state=42)\n",
    "np.shape(X_train)"
   ]
  },
  {
   "cell_type": "code",
   "execution_count": 42,
   "metadata": {
    "collapsed": true
   },
   "outputs": [],
   "source": [
    "models_to_test = {}\n",
    "models_to_test['RF'] = [RandomForestRegressor(),{'n_estimators':[100,200], 'max_features':[2,3] }]"
   ]
  },
  {
   "cell_type": "code",
   "execution_count": 43,
   "metadata": {},
   "outputs": [
    {
     "data": {
      "text/plain": [
       "{'RF': [RandomForestRegressor(bootstrap=True, criterion='mse', max_depth=None,\n",
       "             max_features='auto', max_leaf_nodes=None,\n",
       "             min_impurity_decrease=0.0, min_impurity_split=None,\n",
       "             min_samples_leaf=1, min_samples_split=2,\n",
       "             min_weight_fraction_leaf=0.0, n_estimators=10, n_jobs=1,\n",
       "             oob_score=False, random_state=None, verbose=0, warm_start=False),\n",
       "  {'max_features': [2, 3], 'n_estimators': [100, 200]}]}"
      ]
     },
     "execution_count": 43,
     "metadata": {},
     "output_type": "execute_result"
    }
   ],
   "source": [
    "models_to_test"
   ]
  },
  {
   "cell_type": "code",
   "execution_count": 44,
   "metadata": {
    "collapsed": true
   },
   "outputs": [],
   "source": [
    "for i in models_to_test.keys():\n",
    "    grid_search = GridSearchCV(models_to_test[i][0], models_to_test[i][1],n_jobs=-1, cv = 3).fit(X_train,y_train)\n",
    "    \n",
    "    \n",
    "    "
   ]
  },
  {
   "cell_type": "code",
   "execution_count": 45,
   "metadata": {
    "collapsed": true
   },
   "outputs": [],
   "source": [
    "y_pred = grid_search.best_estimator_.predict(X_test)"
   ]
  },
  {
   "cell_type": "code",
   "execution_count": 46,
   "metadata": {
    "collapsed": true
   },
   "outputs": [],
   "source": [
    "from sklearn.metrics import r2_score"
   ]
  },
  {
   "cell_type": "code",
   "execution_count": 47,
   "metadata": {},
   "outputs": [
    {
     "data": {
      "text/plain": [
       "0.9274674864418077"
      ]
     },
     "execution_count": 47,
     "metadata": {},
     "output_type": "execute_result"
    }
   ],
   "source": [
    "r2_score(y_test,y_pred)"
   ]
  },
  {
   "cell_type": "code",
   "execution_count": 48,
   "metadata": {},
   "outputs": [],
   "source": [
    "#covariance\n",
    "covariance = empirical_covariance(X)\n"
   ]
  },
  {
   "cell_type": "code",
   "execution_count": 49,
   "metadata": {},
   "outputs": [
    {
     "name": "stdout",
     "output_type": "stream",
     "text": [
      "0.4924224016174363\n",
      "0.6185996326405863\n",
      "0.7221315761968126\n",
      "0.743255649857566\n",
      "0.6796287746963279\n",
      "0.46896297239852136\n"
     ]
    }
   ],
   "source": [
    "from sklearn import linear_model\n",
    "from sklearn.linear_model import LinearRegression\n",
    "from sklearn.model_selection import cross_val_predict\n",
    "from sklearn.preprocessing import PolynomialFeatures\n",
    "\n",
    "for i in range (1,7):\n",
    "    lr = LinearRegression()\n",
    "    poly = PolynomialFeatures(i)\n",
    "    Xtrain_poly = poly.fit_transform(X_train)\n",
    "    lr.fit(Xtrain_poly,y_train)\n",
    "    Xtest_poly = poly.fit_transform(X_test)\n",
    "    score = lr.score(Xtest_poly,y_test)\n",
    "    print(score)\n",
    "\n",
    "\n"
   ]
  },
  {
   "cell_type": "code",
   "execution_count": 50,
   "metadata": {},
   "outputs": [
    {
     "name": "stdout",
     "output_type": "stream",
     "text": [
      "0.461565283029728\n",
      "0.5429249323575225\n",
      "0.6796508244006491\n",
      "0.6833717222430175\n",
      "0.6586770729745719\n",
      "0.23248990676524664\n"
     ]
    }
   ],
   "source": [
    "X_4= X = data[cols[0:-2]]\n",
    "X_train, X_test, y_train, y_test = train_test_split(X_4, y, test_size=0.33, random_state=42)\n",
    "for i in range (1,7):\n",
    "    lr = LinearRegression()\n",
    "    poly = PolynomialFeatures(i)\n",
    "    Xtrain_poly = poly.fit_transform(X_train)\n",
    "    lr.fit(Xtrain_poly,y_train)\n",
    "    Xtest_poly = poly.fit_transform(X_test)\n",
    "    score = lr.score(Xtest_poly,y_test)\n",
    "    print(score)\n",
    "#X_train, X_test, y_train, y_test = train_test_split(X, y, test_size=0.33, random_state=42)"
   ]
  },
  {
   "cell_type": "code",
   "execution_count": 51,
   "metadata": {},
   "outputs": [
    {
     "name": "stdout",
     "output_type": "stream",
     "text": [
      "(1502, 4)\n",
      "(1502, 3)\n"
     ]
    },
    {
     "name": "stderr",
     "output_type": "stream",
     "text": [
      "/Library/Frameworks/Python.framework/Versions/3.6/lib/python3.6/site-packages/sklearn/utils/__init__.py:93: FutureWarning: Conversion of the second argument of issubdtype from `int` to `np.signedinteger` is deprecated. In future, it will be treated as `np.int64 == np.dtype(int).type`.\n",
      "  if np.issubdtype(mask.dtype, np.int):\n"
     ]
    }
   ],
   "source": [
    "from sklearn.feature_selection import VarianceThreshold\n",
    "sel = VarianceThreshold(threshold=(0.2))\n",
    "print(X.shape)\n",
    "X_remove_low_variance = sel.fit_transform(X)\n",
    "print (X_remove_low_variance.shape)\n",
    "X_train, X_test, y_train, y_test = train_test_split(X_remove_low_variance, y, test_size=0.33, random_state=42)"
   ]
  },
  {
   "cell_type": "code",
   "execution_count": 63,
   "metadata": {},
   "outputs": [
    {
     "data": {
      "image/png": "[encoded data removed]",
      "text/plain": [
       "<matplotlib.figure.Figure at 0x10a454ba8>"
      ]
     },
     "metadata": {},
     "output_type": "display_data"
    },
    {
     "data": {
      "image/png": "[encoded data removed]",
      "text/plain": [
       "<matplotlib.figure.Figure at 0x10c8bb588>"
      ]
     },
     "metadata": {},
     "output_type": "display_data"
    }
   ],
   "source": [
    "def evaluate_model(list):\n",
    "    model_name = list[0]\n",
    "    model = list[1]\n",
    "    model_parameters = list[2]\n",
    "    grid_search = GridSearchCV(model, model_parameters,n_jobs=-1,cv=3).fit(X_train,y_train)\n",
    "    ytrain_pred = grid_search.best_estimator_.predict(X_train)\n",
    "    ytest_pred = grid_search.best_estimator_.predict(X_test)\n",
    "    \n",
    "    plt.plot(ytrain_pred,y_train,'o',color='red',label='Training')\n",
    "    plt.plot(ytest_pred,y_test,'o',color='black',label='Testing')\n",
    "    plt.xlabel('Predicted Noise (dB) for {0}'.format(model_name))\n",
    "    plt.ylabel('Actual Noise(dB)')\n",
    "    plt.legend()\n",
    "    plt.show()\n",
    "    \n",
    "    \n",
    "models_to_test = {}\n",
    "models_to_test['RF'] = ['Random Forrest',RandomForestRegressor(),{'n_estimators':[100,200], 'max_features':[2,3] }] \n",
    "models_to_test['LR'] = ['Linear Regression',LinearRegression(),{}]\n",
    "for i in models_to_test.keys():\n",
    "    evaluate_model(models_to_test[i])"
   ]
  }
 ],
 "metadata": {
  "kernelspec": {
   "display_name": "Python 3",
   "language": "python",
   "name": "python3"
  },
  "language_info": {
   "codemirror_mode": {
    "name": "ipython",
    "version": 3
   },
   "file_extension": ".py",
   "mimetype": "text/x-python",
   "name": "python",
   "nbconvert_exporter": "python",
   "pygments_lexer": "ipython3",
   "version": "3.6.2"
  }
 },
 "nbformat": 4,
 "nbformat_minor": 2
}
